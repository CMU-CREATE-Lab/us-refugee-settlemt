{
 "metadata": {
  "name": "",
  "signature": "sha256:0556a6787126284dc4a5736659774c2bca3a89a1d737a503c98c6de8a8fe3727"
 },
 "nbformat": 3,
 "nbformat_minor": 0,
 "worksheets": [
  {
   "cells": [
    {
     "cell_type": "code",
     "collapsed": false,
     "input": [
      "import csv, json"
     ],
     "language": "python",
     "metadata": {},
     "outputs": [],
     "prompt_number": 2
    },
    {
     "cell_type": "heading",
     "level": 1,
     "metadata": {},
     "source": [
      "Process CSV file"
     ]
    },
    {
     "cell_type": "code",
     "collapsed": false,
     "input": [
      "data = []\n",
      "filename = \"All Refugee Arrivals USA 1-1-2002 to 12-31-2016 - No Duplicates.csv\"\n",
      "with open(filename) as f:\n",
      "    reader = csv.DictReader(f)\n",
      "    for row in reader:\n",
      "        data.append(row)\n",
      "# data[0]\n",
      "#{'Assur_DestinationCity1': 'Mobile',\n",
      "# 'Cases4': '30,289',\n",
      "# 'Category3': 'Afghanistan',\n",
      "# 'Textbox82': 'To: 31 Dec 2016',\n",
      "# 'Textbox87': 'From: 01 Jan 2002',\n",
      "# 'city_country_total': '10',\n",
      "# 'nat_definition4': 'Alabama',\n",
      "# 'region_name_3': 'CY 2002',\n",
      "# 'state_country_total': '10',\n",
      "# 'state_total': '39'}"
     ],
     "language": "python",
     "metadata": {},
     "outputs": [],
     "prompt_number": 2
    },
    {
     "cell_type": "heading",
     "level": 1,
     "metadata": {},
     "source": [
      "Get a unique list of locations"
     ]
    },
    {
     "cell_type": "code",
     "collapsed": false,
     "input": [
      "locations = {}\n",
      "for row in data:\n",
      "    key = row['Assur_DestinationCity1'] + ', ' + row['nat_definition4']\n",
      "    if not locations.has_key(key):\n",
      "        locations[key] = {'count': 1}\n",
      "    else:\n",
      "        locations[key]['count'] += 1"
     ],
     "language": "python",
     "metadata": {},
     "outputs": [],
     "prompt_number": 3
    },
    {
     "cell_type": "heading",
     "level": 1,
     "metadata": {},
     "source": [
      "Geocode locations"
     ]
    },
    {
     "cell_type": "code",
     "collapsed": false,
     "input": [
      "import googlemaps\n",
      "from datetime import datetime\n",
      "gmaps = googlemaps.Client(key='')\n",
      "# Geocoding an address\n",
      "keys = locations.keys()\n",
      "for key in keys:\n",
      "    geocode_result = gmaps.geocode(key)\n",
      "    locations[key]['geocode_result'] = geocode_result"
     ],
     "language": "python",
     "metadata": {},
     "outputs": [],
     "prompt_number": 18
    },
    {
     "cell_type": "heading",
     "level": 1,
     "metadata": {},
     "source": [
      "Save locations"
     ]
    },
    {
     "cell_type": "code",
     "collapsed": false,
     "input": [
      "filename = \"locations.json\"\n",
      "with open(filename, \"w\") as f:\n",
      "    json.dump(locations, f)"
     ],
     "language": "python",
     "metadata": {},
     "outputs": [],
     "prompt_number": 26
    },
    {
     "cell_type": "heading",
     "level": 1,
     "metadata": {},
     "source": [
      "Get total refugee population per city over all years"
     ]
    },
    {
     "cell_type": "code",
     "collapsed": false,
     "input": [
      "total_per_location = {}\n",
      "for row in data:\n",
      "    if row['Assur_DestinationCity1'] == '':\n",
      "        pass\n",
      "    else:\n",
      "        key = row['Assur_DestinationCity1'] + ', ' + row['nat_definition4']\n",
      "        city_country_total = int(row['city_country_total'].replace(\",\", \"\"))    \n",
      "        if not total_per_location.has_key(key):\n",
      "            total_per_location[key] = {'total': city_country_total}\n",
      "        else:\n",
      "            total_per_location[key]['total'] += city_country_total"
     ],
     "language": "python",
     "metadata": {},
     "outputs": [],
     "prompt_number": 31
    },
    {
     "cell_type": "code",
     "collapsed": false,
     "input": [
      "total_geojson = {\n",
      "    \"type\": \"FeatureCollections\",\n",
      "    \"features\": []\n",
      "}\n",
      "for key in total_per_location.keys():\n",
      "    location = total_per_location[key]\n",
      "    latlng = locations[key]['geocode_result'][0]['geometry']['location']\n",
      "    feature = {\n",
      "        \"type\": \"Feature\",\n",
      "        \"geometry\": {\"type\": \"Point\", \"coordinates\": [latlng['lng'], latlng['lat']]},\n",
      "        \"properties\": {\"location\": key, \"total\": location['total']}\n",
      "    }\n",
      "    total_geojson[\"features\"].append(feature)\n",
      "\n",
      "with open('total.geojson', 'w') as f:\n",
      "    json.dump(total_geojson, f, indent=4)    "
     ],
     "language": "python",
     "metadata": {},
     "outputs": [],
     "prompt_number": 48
    },
    {
     "cell_type": "code",
     "collapsed": false,
     "input": [
      "with open('total.geojson') as f:\n",
      "    total_geojson = json.load(f)    "
     ],
     "language": "python",
     "metadata": {},
     "outputs": [],
     "prompt_number": 4
    },
    {
     "cell_type": "heading",
     "level": 1,
     "metadata": {},
     "source": [
      "Get total refugee population per city per year"
     ]
    },
    {
     "cell_type": "code",
     "collapsed": false,
     "input": [
      "data = []\n",
      "filename = \"All Refugee Arrivals USA 1-1-2002 to 12-31-2016 - No Duplicates.csv\"\n",
      "with open(filename) as f:\n",
      "    reader = csv.DictReader(f)\n",
      "    for row in reader:\n",
      "        data.append(row)\n"
     ],
     "language": "python",
     "metadata": {},
     "outputs": [],
     "prompt_number": 8
    },
    {
     "cell_type": "code",
     "collapsed": false,
     "input": [
      "with open (\"locations.json\") as f:\n",
      "    locations = json.load(f)"
     ],
     "language": "python",
     "metadata": {},
     "outputs": [],
     "prompt_number": 9
    },
    {
     "cell_type": "code",
     "collapsed": false,
     "input": [
      "total_per_location_per_year = {}\n",
      "for row in data:\n",
      "    if row['Assur_DestinationCity1'] == '':\n",
      "        pass\n",
      "    else:\n",
      "        year = int(row['region_name_3'].replace('CY ',''))\n",
      "        key = row['Assur_DestinationCity1'] + ', ' + row['nat_definition4']\n",
      "        city_country_total = int(row['city_country_total'].replace(\",\", \"\"))    \n",
      "        idx = year - 2002\n",
      "        if not total_per_location_per_year.has_key(key):\n",
      "            total_per_location_per_year[key] = {'totals': [0,0,0,0,0,0,0,0,0,0,0,0,0,0,0]}            \n",
      "        total_per_location_per_year[key]['totals'][idx] += (city_country_total)\n"
     ],
     "language": "python",
     "metadata": {},
     "outputs": [],
     "prompt_number": 37
    },
    {
     "cell_type": "code",
     "collapsed": false,
     "input": [
      "total_geojson = {\n",
      "    \"type\": \"FeatureCollections\",\n",
      "    \"features\": []\n",
      "}\n",
      "for key in total_per_location_per_year.keys():\n",
      "    location = total_per_location_per_year[key]\n",
      "    latlng = locations[key]['geocode_result'][0]['geometry']['location']\n",
      "    feature = {\n",
      "        \"type\": \"Feature\",\n",
      "        \"geometry\": {\"type\": \"Point\", \"coordinates\": [latlng['lng'], latlng['lat']]},\n",
      "        \"properties\": {\"location\": key, \"totals\": location['totals']}\n",
      "    }\n",
      "    total_geojson[\"features\"].append(feature)\n",
      "\n",
      "with open('total_per_year.geojson', 'w') as f:\n",
      "    json.dump(total_geojson, f, indent=4)    "
     ],
     "language": "python",
     "metadata": {},
     "outputs": [],
     "prompt_number": 39
    },
    {
     "cell_type": "code",
     "collapsed": false,
     "input": [],
     "language": "python",
     "metadata": {},
     "outputs": []
    }
   ],
   "metadata": {}
  }
 ]
}